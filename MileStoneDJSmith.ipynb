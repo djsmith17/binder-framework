{
 "cells": [
  {
   "cell_type": "code",
   "execution_count": 1,
   "metadata": {},
   "outputs": [],
   "source": [
    "import pandas as pd\n",
    "import numpy as np\n",
    "import matplotlib as mpl\n",
    "import matplotlib.pyplot as plt\n",
    "import os \n",
    "\n",
    "# Identify working directory\n",
    "cwd = os.getcwd()\n",
    "\n",
    "# Load Data from csv\n",
    "filePath = 'Value_of_Energy_Cost_Savings_Program_Savings_for_Businesses_-_FY2020.csv'\n",
    "df = pd.read_csv(filePath)"
   ]
  },
  {
   "cell_type": "code",
   "execution_count": 2,
   "metadata": {},
   "outputs": [
    {
     "name": "stdout",
     "output_type": "stream",
     "text": [
      "1.3.5\n",
      "1.21.5\n",
      "3.5.1\n"
     ]
    }
   ],
   "source": [
    "# Check versions\n",
    "print(pd.__version__)\n",
    "print(np.__version__)\n",
    "print(mpl.__version__)\n"
   ]
  },
  {
   "cell_type": "markdown",
   "metadata": {},
   "source": [
    "1. How many different companies are represented in the data set?"
   ]
  },
  {
   "cell_type": "code",
   "execution_count": 3,
   "metadata": {},
   "outputs": [
    {
     "name": "stdout",
     "output_type": "stream",
     "text": [
      "There are 439 unique companies in this data set\n"
     ]
    }
   ],
   "source": [
    "CompanyNames = df['Company Name'].unique()\n",
    "numCompanies = len(CompanyNames)\n",
    "print('There are ' + str(numCompanies) + ' unique companies in this data set')"
   ]
  },
  {
   "cell_type": "markdown",
   "metadata": {},
   "source": [
    "2. What is the total number of jobs created for businesses in Queens?"
   ]
  },
  {
   "cell_type": "code",
   "execution_count": 4,
   "metadata": {},
   "outputs": [
    {
     "name": "stdout",
     "output_type": "stream",
     "text": [
      "The total number of jobs created in Queens is 102.0\n"
     ]
    }
   ],
   "source": [
    "dfQueens = df.loc[(df['Borough'] == 'Queens')]\n",
    "queensJC = dfQueens['Job created']\n",
    "queensJC = [0 if pd.isnull(x) else x for x in queensJC]\n",
    "print('The total number of jobs created in Queens is ' + str(sum(queensJC)))"
   ]
  },
  {
   "cell_type": "markdown",
   "metadata": {},
   "source": [
    "3. How many different unique email domains names are there in the data set?"
   ]
  },
  {
   "cell_type": "code",
   "execution_count": 5,
   "metadata": {},
   "outputs": [
    {
     "name": "stdout",
     "output_type": "stream",
     "text": [
      "This data set includes 361 unique email domains\n"
     ]
    }
   ],
   "source": [
    "emails = df['company email']\n",
    "\n",
    "# Remove NaN\n",
    "emails = [i for i in emails if (pd.isnull(i)) == False]\n",
    "\n",
    "# Isloate Domains\n",
    "emailsDomains = [x[x.find('@') + 1:] for x in emails]\n",
    "\n",
    "# Find unique domains\n",
    "uniqueDomains = pd.unique(emailsDomains)\n",
    "\n",
    "print('This data set includes ' + str(len(uniqueDomains)) + ' unique email domains')"
   ]
  },
  {
   "cell_type": "markdown",
   "metadata": {},
   "source": [
    "4. Considering only NTAs with at least 5 listed businesses, what is the average total savings and the total jobs created for each NTA?"
   ]
  },
  {
   "cell_type": "code",
   "execution_count": 6,
   "metadata": {},
   "outputs": [
    {
     "data": {
      "text/html": [
       "<div>\n",
       "<style scoped>\n",
       "    .dataframe tbody tr th:only-of-type {\n",
       "        vertical-align: middle;\n",
       "    }\n",
       "\n",
       "    .dataframe tbody tr th {\n",
       "        vertical-align: top;\n",
       "    }\n",
       "\n",
       "    .dataframe thead th {\n",
       "        text-align: right;\n",
       "    }\n",
       "</style>\n",
       "<table border=\"1\" class=\"dataframe\">\n",
       "  <thead>\n",
       "    <tr style=\"text-align: right;\">\n",
       "      <th></th>\n",
       "      <th>BusinessCount</th>\n",
       "      <th>AverageTotalSavings</th>\n",
       "      <th>TotalJobsCreated</th>\n",
       "    </tr>\n",
       "    <tr>\n",
       "      <th>NTA</th>\n",
       "      <th></th>\n",
       "      <th></th>\n",
       "      <th></th>\n",
       "    </tr>\n",
       "  </thead>\n",
       "  <tbody>\n",
       "    <tr>\n",
       "      <th>Battery Park City-Lower Manhattan</th>\n",
       "      <td>9</td>\n",
       "      <td>469890.796667</td>\n",
       "      <td>0.0</td>\n",
       "    </tr>\n",
       "    <tr>\n",
       "      <th>Bushwick South</th>\n",
       "      <td>10</td>\n",
       "      <td>26140.455000</td>\n",
       "      <td>10.0</td>\n",
       "    </tr>\n",
       "    <tr>\n",
       "      <th>Carroll Gardens-Columbia Street-Red Hook</th>\n",
       "      <td>11</td>\n",
       "      <td>24337.390000</td>\n",
       "      <td>0.0</td>\n",
       "    </tr>\n",
       "    <tr>\n",
       "      <th>College Point</th>\n",
       "      <td>7</td>\n",
       "      <td>17159.372857</td>\n",
       "      <td>2.0</td>\n",
       "    </tr>\n",
       "    <tr>\n",
       "      <th>Crown Heights North</th>\n",
       "      <td>9</td>\n",
       "      <td>4036.298889</td>\n",
       "      <td>0.0</td>\n",
       "    </tr>\n",
       "  </tbody>\n",
       "</table>\n",
       "</div>"
      ],
      "text/plain": [
       "                                          BusinessCount  AverageTotalSavings  \\\n",
       "NTA                                                                            \n",
       "Battery Park City-Lower Manhattan                     9        469890.796667   \n",
       "Bushwick South                                       10         26140.455000   \n",
       "Carroll Gardens-Columbia Street-Red Hook             11         24337.390000   \n",
       "College Point                                         7         17159.372857   \n",
       "Crown Heights North                                   9          4036.298889   \n",
       "\n",
       "                                          TotalJobsCreated  \n",
       "NTA                                                         \n",
       "Battery Park City-Lower Manhattan                      0.0  \n",
       "Bushwick South                                        10.0  \n",
       "Carroll Gardens-Columbia Street-Red Hook               0.0  \n",
       "College Point                                          2.0  \n",
       "Crown Heights North                                    0.0  "
      ]
     },
     "execution_count": 6,
     "metadata": {},
     "output_type": "execute_result"
    }
   ],
   "source": [
    "# Make a new dataframe to prepare for the 5th step\n",
    "TopNTAs = pd.DataFrame()\n",
    "\n",
    "# Group Stats\n",
    "TopNTAs['BusinessCount'] = df.groupby('NTA')['NTA'].count()\n",
    "TopNTAs['AverageTotalSavings'] = df.groupby('NTA')['Total Savings'].mean()\n",
    "TopNTAs['TotalJobsCreated'] = df.groupby('NTA')['Job created'].sum()\n",
    "\n",
    "# Only take rows with # business >= 5\n",
    "TopNTAs = TopNTAs.loc[TopNTAs[\"BusinessCount\"] >= 5]\n",
    "TopNTAs.head()"
   ]
  },
  {
   "cell_type": "markdown",
   "metadata": {},
   "source": [
    "5. Save your result for the previous question as a CSV file."
   ]
  },
  {
   "cell_type": "code",
   "execution_count": 7,
   "metadata": {},
   "outputs": [],
   "source": [
    "TopNTAFilePath = cwd + '\\\\Day4TopNTA.csv'\n",
    "TopNTAs.to_csv(TopNTAFilePath)"
   ]
  },
  {
   "cell_type": "markdown",
   "metadata": {},
   "source": [
    "1. Create a scatter plot of jobs created versus average savings. Use both a standard and a logarithmic scale for the average savings."
   ]
  },
  {
   "cell_type": "code",
   "execution_count": 8,
   "metadata": {},
   "outputs": [
    {
     "data": {
      "image/png": "[encoded data removed]",
      "text/plain": [
       "<Figure size 432x288 with 2 Axes>"
      ]
     },
     "metadata": {
      "needs_background": "light"
     },
     "output_type": "display_data"
    }
   ],
   "source": [
    "# Create a new variable for Log10of Average Total Savings\n",
    "TopNTAs['AverageTotalSavingsLog'] = np.log10(TopNTAs['AverageTotalSavings'])\n",
    "\n",
    "# Create Figure\n",
    "fig, ax1 = plt.subplots()\n",
    "\n",
    "color = 'tab:red'\n",
    "ax1.set_xlabel('Total Jobs Created')\n",
    "ax1.set_ylabel('Average Total Savings ($)', color = color)\n",
    "ax1.scatter('TotalJobsCreated', 'AverageTotalSavings', c = color, data=TopNTAs)\n",
    "ax1.tick_params(axis='y', labelcolor=color)\n",
    "\n",
    "ax2 = ax1.twinx()\n",
    "\n",
    "color = 'tab:blue'\n",
    "ax2.set_ylabel('Log of Average Total Savings ($)', color = color)\n",
    "ax2.scatter('TotalJobsCreated', 'AverageTotalSavingsLog', c = color, data=TopNTAs)\n",
    "ax2.tick_params(axis='y', labelcolor=color)"
   ]
  },
  {
   "cell_type": "markdown",
   "metadata": {},
   "source": [
    "2. Create a histogram of the log of the average total savings."
   ]
  },
  {
   "cell_type": "code",
   "execution_count": 9,
   "metadata": {},
   "outputs": [
    {
     "data": {
      "text/plain": [
       "Text(0.5, 0, 'Log of Average Total Savings ($)')"
      ]
     },
     "execution_count": 9,
     "metadata": {},
     "output_type": "execute_result"
    },
    {
     "data": {
      "image/png": "[encoded data removed]",
      "text/plain": [
       "<Figure size 432x288 with 1 Axes>"
      ]
     },
     "metadata": {
      "needs_background": "light"
     },
     "output_type": "display_data"
    }
   ],
   "source": [
    "fig2, ax1 = plt.subplots()\n",
    "ax1.hist('AverageTotalSavingsLog', data=TopNTAs)\n",
    "ax1.set_xlabel('Log of Average Total Savings ($)')"
   ]
  },
  {
   "cell_type": "markdown",
   "metadata": {},
   "source": [
    "3. Create a line plot of the total jobs created for each month."
   ]
  },
  {
   "cell_type": "code",
   "execution_count": null,
   "metadata": {},
   "outputs": [],
   "source": []
  }
 ],
 "metadata": {
  "kernelspec": {
   "display_name": "Python 3.10.1 64-bit (system)",
   "language": "python",
   "name": "python3"
  },
  "language_info": {
   "codemirror_mode": {
    "name": "ipython",
    "version": 3
   },
   "file_extension": ".py",
   "mimetype": "text/x-python",
   "name": "python",
   "nbconvert_exporter": "python",
   "pygments_lexer": "ipython3",
   "version": "3.10.1"
  },
  "orig_nbformat": 4,
  "vscode": {
   "interpreter": {
    "hash": "d3e10ef16274dd72e574b8fa73b58450b957d8421a2901baded3cca26fcf5dda"
   }
  }
 },
 "nbformat": 4,
 "nbformat_minor": 2
}
